{
    "metadata": {
        "kernelspec": {
            "name": "SQL",
            "display_name": "SQL",
            "language": "sql"
        },
        "language_info": {
            "name": "sql",
            "version": ""
        }
    },
    "nbformat_minor": 2,
    "nbformat": 4,
    "cells": [
        {
            "cell_type": "code",
            "source": [
                "create database sistemainventario"
            ],
            "metadata": {
                "azdata_cell_guid": "eed02f81-849b-4ca9-9880-8940d70d43d0",
                "language": "sql"
            },
            "outputs": [],
            "execution_count": null
        },
        {
            "cell_type": "code",
            "source": [
                "use sistemainventario;"
            ],
            "metadata": {
                "azdata_cell_guid": "c5085063-3ae6-45da-90f4-148a58a49c65",
                "language": "sql"
            },
            "outputs": [],
            "execution_count": null
        },
        {
            "cell_type": "code",
            "source": [
                "create table rol(\n",
                "\tidrol int primary key identity,\n",
                "\tnombrerol varchar(50),\n",
                "\tfecharegistro datetime default getdate()\n",
                ")"
            ],
            "metadata": {
                "azdata_cell_guid": "e9da2484-5df9-4e38-8e46-ede92cde11e0",
                "language": "sql"
            },
            "outputs": [],
            "execution_count": null
        },
        {
            "cell_type": "code",
            "source": [
                "insert into rol (nombrerol) values ('administrador')\n",
                "select * from rol"
            ],
            "metadata": {
                "azdata_cell_guid": "5da07337-58cd-4c23-8829-cd8fb6082ac6",
                "language": "sql"
            },
            "outputs": [],
            "execution_count": null
        },
        {
            "cell_type": "code",
            "source": [
                "create table permisos(\n",
                "\tidpermiso int primary key identity,\n",
                "\tidrol int references rol(idrol),\n",
                "\tnombremenu varchar(100),\n",
                "\tfecharegistro datetime default getdate()\n",
                ")"
            ],
            "metadata": {
                "azdata_cell_guid": "91ebc2d9-3578-4ab3-9108-9f015017a308",
                "language": "sql"
            },
            "outputs": [],
            "execution_count": null
        },
        {
            "cell_type": "code",
            "source": [
                "select * from permisos"
            ],
            "metadata": {
                "azdata_cell_guid": "e38d6e22-f555-4bfb-b4f7-fd63c36c99bd",
                "language": "sql"
            },
            "outputs": [],
            "execution_count": null
        },
        {
            "cell_type": "code",
            "source": [
                "create table proveedores(\n",
                "\tidproveedor int primary key identity,\n",
                "\tdocumento varchar(50),\n",
                "\trazonsocial varchar(50),\n",
                "\tcorreo varchar(50),\n",
                "\ttelefono varchar(50),\n",
                "\testado bit,\n",
                "\tfecharegistro date default getdate()\n",
                ")"
            ],
            "metadata": {
                "azdata_cell_guid": "c4421fce-ab4a-45b7-9ade-8a9104a5b209",
                "language": "sql"
            },
            "outputs": [],
            "execution_count": null
        },
        {
            "cell_type": "code",
            "source": [
                "create table clientes(\n",
                "\tidcliente int primary key identity,\n",
                "\tdocumento varchar(50),\n",
                "\tnombres varchar(50),\n",
                "\tapellidos varchar(50),\n",
                "\tcorreo varchar(50),\n",
                "\ttelefono char(9),\n",
                "\testado bit,\n",
                "\tfecharegistro date default getdate()\n",
                ")"
            ],
            "metadata": {
                "azdata_cell_guid": "97ab8cf7-c000-4292-bbd2-51a9b70e0d94",
                "language": "sql"
            },
            "outputs": [],
            "execution_count": null
        },
        {
            "cell_type": "code",
            "source": [
                "insert into clientes (documento, nombres, apellidos, correo, telefono) values\n",
                "('12345678', 'tio nacho', 'soyuz', 'tionacho@soyuz.com', '987654321')"
            ],
            "metadata": {
                "azdata_cell_guid": "c7f5be1d-ccf6-49ed-a9ea-3975e087df69",
                "language": "sql"
            },
            "outputs": [],
            "execution_count": null
        },
        {
            "cell_type": "code",
            "source": [
                "select idcliente, documento, nombres, apellidos, correo, telefono from clientes"
            ],
            "metadata": {
                "azdata_cell_guid": "9b63f394-4487-4667-8ce3-e9b656ab932f",
                "language": "sql"
            },
            "outputs": [],
            "execution_count": null
        },
        {
            "cell_type": "code",
            "source": [
                "create table usuarios(\n",
                "\tidusuario int primary key identity,\n",
                "\tdocumento varchar(50),\n",
                "\tnombreusuario varchar(50),\n",
                "\tcorreo varchar(50),\n",
                "\tclave varchar(50),\n",
                "\tidrol int references rol(idrol),\n",
                "\testado bit not null default 1,\n",
                "\tfecharegistro datetime default getdate()\n",
                ")"
            ],
            "metadata": {
                "azdata_cell_guid": "1a51fee5-1102-419f-93cb-60ba2aa53720",
                "language": "sql"
            },
            "outputs": [],
            "execution_count": null
        },
        {
            "cell_type": "code",
            "source": [
                "insert into usuarios (documento, nombreusuario, correo, clave, idrol) values\n",
                "\t('12345678', 'pepe', 'pepe@hotmail.pe', '12345', 1),\n",
                "\t('12345688', 'pedro', 'pedro@gmail.com', '12345', 2)\n",
                "select * from usuarios"
            ],
            "metadata": {
                "azdata_cell_guid": "2d611944-a5aa-4881-bd14-2abd283a3a33",
                "language": "sql"
            },
            "outputs": [],
            "execution_count": null
        },
        {
            "cell_type": "code",
            "source": [
                "create table categorias(\n",
                "\tidcategoria int primary key identity,\n",
                "\tnombrecategoria varchar(100),\n",
                "\testado bit not null default 1,\n",
                "\tfecharegistro datetime default getdate()\n",
                ")"
            ],
            "metadata": {
                "azdata_cell_guid": "4058bf9e-3073-44c3-8d0f-6c405fcf1d9d",
                "language": "sql"
            },
            "outputs": [],
            "execution_count": null
        },
        {
            "cell_type": "code",
            "source": [
                "select idcategoria, nombrecategoria, fecharegistro from categorias"
            ],
            "metadata": {
                "azdata_cell_guid": "8b947ecf-0cca-4aaf-b85d-3cf8f1215278",
                "language": "sql"
            },
            "outputs": [],
            "execution_count": null
        },
        {
            "cell_type": "code",
            "source": [
                "insert into categorias (nombrecategoria) values\n",
                "\t('categoria de prueba')\n",
                "select * from categorias"
            ],
            "metadata": {
                "azdata_cell_guid": "005d5d82-4181-49ba-9235-d4744cf37a86",
                "language": "sql"
            },
            "outputs": [],
            "execution_count": null
        },
        {
            "cell_type": "code",
            "source": [
                "create table tallasropa (\n",
                "\tidtallaropa int primary key identity,\n",
                "\tnombretalla varchar(50)\n",
                ")"
            ],
            "metadata": {
                "azdata_cell_guid": "73ecf748-022c-440b-ba80-c143414ec20e",
                "language": "sql"
            },
            "outputs": [],
            "execution_count": null
        },
        {
            "cell_type": "code",
            "source": [
                "insert into tallasropa (nombretalla) VALUES ('S'), ('M'), ('L'), ('XL'), ('XXL')"
            ],
            "metadata": {
                "azdata_cell_guid": "1fcaf95b-3f4d-4b26-ba53-6a7ba5be6905",
                "language": "sql"
            },
            "outputs": [],
            "execution_count": null
        },
        {
            "cell_type": "code",
            "source": [
                "SELECT * FROM tallasropa"
            ],
            "metadata": {
                "azdata_cell_guid": "90804e7d-cdeb-47f7-a6b2-3f59a0bea88f",
                "language": "sql"
            },
            "outputs": [],
            "execution_count": null
        },
        {
            "cell_type": "code",
            "source": [
                "select idtallaropa, nombretalla from tallasropa"
            ],
            "metadata": {
                "azdata_cell_guid": "b7532674-18a0-4f44-ae62-93ba610017c2",
                "language": "sql"
            },
            "outputs": [],
            "execution_count": null
        },
        {
            "cell_type": "code",
            "source": [
                "create table tallaszapatos (\n",
                "\tidtallazapato int primary key identity,\n",
                "\ttallazapato varchar(50)\n",
                ")"
            ],
            "metadata": {
                "azdata_cell_guid": "ece9bf6c-01ad-45e4-8653-e493f7c5af18",
                "language": "sql"
            },
            "outputs": [],
            "execution_count": null
        },
        {
            "cell_type": "code",
            "source": [
                "create table productosropa(\n",
                "\tidproducto int primary key identity,\n",
                "\timagenes image null,\n",
                "\tcodigo varchar(50) not null,\n",
                "\tnombre varchar(50) not null,\n",
                "\tdescripcion varchar(50) not null,\n",
                "\tidcategoria int references categorias(idcategoria) not null,\n",
                "\tidtallaropa int REFERENCES tallasropa(idtallaropa) not null,\n",
                "\tstock int default 0 not null,\n",
                "\tcolores varchar(40) not null,\n",
                "\tnumcaja varchar(50) not null,\n",
                "\tpreciocompra decimal(10,2) default 0,\n",
                "\tprecioventa decimal(10,2) default 0 not null,\n",
                "\testado bit not null default 1,\n",
                "\tfecharegistro datetime default getdate()\n",
                ")"
            ],
            "metadata": {
                "azdata_cell_guid": "f67ec936-2009-4061-b9a4-94afaa771300",
                "language": "sql"
            },
            "outputs": [],
            "execution_count": null
        },
        {
            "cell_type": "markdown",
            "source": [
                "alter table productos add imagenes image;"
            ],
            "metadata": {
                "azdata_cell_guid": "8127e1c8-0f05-4503-a5a9-2d6ee7f58460"
            }
        },
        {
            "cell_type": "markdown",
            "source": [
                "alter table productos add numcaja varchar(50);"
            ],
            "metadata": {
                "azdata_cell_guid": "7e2240ee-5266-4176-bdbc-f73ec98597fd"
            }
        },
        {
            "cell_type": "code",
            "source": [
                "insert into productosropa (codigo, nombre, descripcion, idcategoria, idtallaropa, stock, colores, numcaja, precioventa) values\n",
                "('113221466', 'prueba1', 'hola mundgg', 1, 1, '40', 'amarillo', 'caja 12', '150'),\n",
                "('113221896', 'prueba2', 'hola mundo', 1, 2, '30', 'azul', 'bolsa 15', '69');\n",
                "select * from productosropa"
            ],
            "metadata": {
                "azdata_cell_guid": "18cc7a05-2e7e-4b90-bf1b-0b72c51df324",
                "language": "sql"
            },
            "outputs": [],
            "execution_count": null
        },
        {
            "cell_type": "code",
            "source": [
                "select idproducto, codigo, nombre, descripcion, c.idcategoria, c.nombrecategoria, tr.idtallaropa, tr.nombretalla, stock, colores, numcaja, precioventa from productosropa p\n",
                "inner join categorias c on c.idcategoria = p.idcategoria\n",
                "inner join tallasropa tr on tr.idtallaropa = p.idtallaropa"
            ],
            "metadata": {
                "azdata_cell_guid": "1f0074de-66bc-46a2-8368-9785ee9c5a31",
                "language": "sql"
            },
            "outputs": [],
            "execution_count": null
        },
        {
            "cell_type": "code",
            "source": [
                "create table compras(\n",
                "\tidcompra int primary key identity,\n",
                "\tidusuario int references usuarios(idusuario),\n",
                "\tidproveedor int references proveedores(idproveedor),\n",
                "\ttipodocumento varchar(50),\n",
                "\tnumerodocumento varchar(50),\n",
                "\tmontototal decimal(10,2),\n",
                "\tfecharegistro datetime default getdate()\n",
                ")"
            ],
            "metadata": {
                "azdata_cell_guid": "ea5bfecd-18c0-480b-8535-9bc823922eb1",
                "language": "sql"
            },
            "outputs": [],
            "execution_count": null
        },
        {
            "cell_type": "code",
            "source": [
                "select * from compras"
            ],
            "metadata": {
                "azdata_cell_guid": "fe619089-3b69-4aa3-bbe6-2031d962eaaa",
                "language": "sql"
            },
            "outputs": [],
            "execution_count": null
        },
        {
            "cell_type": "code",
            "source": [
                "create table detalle_compra(\n",
                "\tiddetallecompra int primary key identity,\n",
                "\tidcompra int references compras(idcompra),\n",
                "\tidproducto int references productosropa(idproducto),\n",
                "\tpreciocompra decimal(10,2) default 0,\n",
                "\tprecioventa decimal(10,2) default 0,\n",
                "\tcantidad int,\n",
                "\tmontototal decimal(10,2),\n",
                "\tfecharegistro datetime default getdate()\n",
                ")"
            ],
            "metadata": {
                "azdata_cell_guid": "22725ff9-3a5c-4389-a480-5d572942b050",
                "language": "sql"
            },
            "outputs": [],
            "execution_count": null
        },
        {
            "cell_type": "code",
            "source": [
                "create table ventas(\n",
                "\tidventa int primary key identity,\n",
                "\tidusuario int references usuarios(idusuario),\n",
                "\ttipodocumento varchar(50),\n",
                "\tnumerodocumento varchar(50),\n",
                "\tdocumentocliente varchar(50),\n",
                "\tnombrecliente varchar(100),\n",
                "\tmontopago decimal(10,2),\n",
                "\tmontocambio decimal(10,2),\n",
                "\tmontototal decimal(10,2),\n",
                "\tfecharegistro datetime default getdate()\n",
                ")"
            ],
            "metadata": {
                "azdata_cell_guid": "94dc1b3c-1d50-4828-b7d5-7485ed2ff51a",
                "language": "sql"
            },
            "outputs": [],
            "execution_count": null
        },
        {
            "cell_type": "code",
            "source": [
                "create table detalle_venta(\n",
                "\tiddetalleventa int primary key identity,\n",
                "\tidventa int references ventas(idventa),\n",
                "\tidproductos int references productosropa(idproducto),\n",
                "\tprecioventa decimal(10,2),\n",
                "\tcantidad int,\n",
                "\tsubtotal decimal(10,2),\n",
                "\tfecharegistro datetime default getdate()\n",
                ")"
            ],
            "metadata": {
                "azdata_cell_guid": "770b4781-e1fe-4324-a409-c96ab16db726",
                "language": "sql"
            },
            "outputs": [],
            "execution_count": null
        },
        {
            "cell_type": "code",
            "source": [
                "create table negocios(\n",
                "\tidnegocio int primary key identity,\n",
                "\tnombre varchar(60),\n",
                "\truc varchar(60),\n",
                "\tdireccion varchar(60),\n",
                "\tlogo varbinary(max) NULL\n",
                ")"
            ],
            "metadata": {
                "azdata_cell_guid": "8c451598-7a4b-4b8b-a7d3-22a23faa23c1",
                "language": "sql"
            },
            "outputs": [],
            "execution_count": null
        }
    ]
}