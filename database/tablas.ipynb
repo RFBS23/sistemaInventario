{
    "metadata": {
        "kernelspec": {
            "name": "SQL",
            "display_name": "SQL",
            "language": "sql"
        },
        "language_info": {
            "name": "sql",
            "version": ""
        }
    },
    "nbformat_minor": 2,
    "nbformat": 4,
    "cells": [
        {
            "cell_type": "code",
            "source": [
                "DROP DATABASE IF EXISTS sistemainventario;\n",
                "create database sistemainventario"
            ],
            "metadata": {
                "azdata_cell_guid": "b0543ff8-b8c6-4cf9-b8f9-97fd27229647",
                "language": "sql"
            },
            "outputs": [],
            "execution_count": null
        },
        {
            "cell_type": "code",
            "source": [
                "use sistemainventario;"
            ],
            "metadata": {
                "azdata_cell_guid": "01ad0c42-471c-4dc2-a89f-346f8eb9c283",
                "language": "sql"
            },
            "outputs": [],
            "execution_count": null
        },
        {
            "cell_type": "code",
            "source": [
                "create table rol(\n",
                "\tidrol int primary key identity,\n",
                "\tnombrerol varchar(50),\n",
                "\tfecharegistro datetime default getdate()\n",
                ")"
            ],
            "metadata": {
                "azdata_cell_guid": "7a6400fc-b99e-47f0-a39a-1ac3a5012765",
                "language": "sql"
            },
            "outputs": [],
            "execution_count": null
        },
        {
            "cell_type": "code",
            "source": [
                "insert into rol (nombrerol) values \n",
                "\t('administrador'),\n",
                "\t('almacen'),\n",
                "\t('vendedor')\n",
                "select * from rol"
            ],
            "metadata": {
                "azdata_cell_guid": "b3c8acce-4117-476e-bce9-07168754c490",
                "language": "sql"
            },
            "outputs": [],
            "execution_count": null
        },
        {
            "cell_type": "code",
            "source": [
                "create table permisos(\n",
                "\tidpermiso int primary key identity,\n",
                "\tidrol int references rol(idrol),\n",
                "\tnombremenu varchar(100),\n",
                "\tfecharegistro datetime default getdate()\n",
                ")"
            ],
            "metadata": {
                "azdata_cell_guid": "e4dba9e6-4ad8-4eae-8ef2-1b8d53b83312",
                "language": "sql"
            },
            "outputs": [],
            "execution_count": null
        },
        {
            "cell_type": "code",
            "source": [
                "insert into permisos (idrol,nombremenu) values\n",
                "\t(1, 'menuusuarios'),\n",
                "\t(1, 'menucategoria'),\n",
                "\t(1, 'menuproductos'),\n",
                "\t(1, 'menuclientes'),\n",
                "\t(1, 'menuproveedores'),\n",
                "\t(1, 'menuventas'),\n",
                "\t(1, 'menuingresotienda'),\n",
                "\t(1, 'menureportes'),\n",
                "\t(1, 'menunegocio'),\n",
                "\t(1, 'menuacercade')"
            ],
            "metadata": {
                "azdata_cell_guid": "0a3725c6-72e9-4a0c-9c55-57323f1ff951",
                "language": "sql"
            },
            "outputs": [],
            "execution_count": null
        },
        {
            "cell_type": "code",
            "source": [
                "select * from permisos"
            ],
            "metadata": {
                "azdata_cell_guid": "e576e9e2-ced5-4c7c-b551-45fa1fb9963e",
                "language": "sql"
            },
            "outputs": [],
            "execution_count": null
        },
        {
            "cell_type": "code",
            "source": [
                "create table proveedores(\n",
                "\tidproveedor int primary key identity,\n",
                "\tdocumento varchar(50),\n",
                "\trazonsocial varchar(50),\n",
                "\tcorreo varchar(50),\n",
                "\ttelefono varchar(50),\n",
                "\testado bit,\n",
                "\tfecharegistro date default getdate()\n",
                ")"
            ],
            "metadata": {
                "azdata_cell_guid": "454823fc-a08d-4bc5-8992-169fe4a49b67",
                "language": "sql"
            },
            "outputs": [],
            "execution_count": null
        },
        {
            "cell_type": "code",
            "source": [
                "insert into proveedores (documento, razonsocial, correo, telefono) values ('123456789', '1234567898787', 'prueba@hotmailempresa.pe', '987654321')\n",
                "select idproveedor, documento, razonsocial, correo, telefono from proveedores"
            ],
            "metadata": {
                "azdata_cell_guid": "08b3c724-d18f-4fe8-8070-7c09912d0a5b",
                "language": "sql"
            },
            "outputs": [],
            "execution_count": null
        },
        {
            "cell_type": "code",
            "source": [
                "create table clientes(\n",
                "\tidcliente int primary key identity,\n",
                "\tdocumento varchar(50),\n",
                "\tnombres varchar(50),\n",
                "\tapellidos varchar(50),\n",
                "\tcorreo varchar(50),\n",
                "\ttelefono char(9),\n",
                "\testado bit,\n",
                "\tfecharegistro date default getdate()\n",
                ")"
            ],
            "metadata": {
                "azdata_cell_guid": "b1f8ead7-aa44-49e7-a706-fc4eb2cfee86",
                "language": "sql"
            },
            "outputs": [],
            "execution_count": null
        },
        {
            "cell_type": "code",
            "source": [
                "insert into clientes (documento, nombres, apellidos, correo, telefono) values\n",
                "('12345678', 'tio nacho', 'soyuz', 'tionacho@soyuz.com', '987654321')"
            ],
            "metadata": {
                "azdata_cell_guid": "765500ed-72e8-4a0c-a53f-2c9391e06f0b",
                "language": "sql"
            },
            "outputs": [],
            "execution_count": null
        },
        {
            "cell_type": "code",
            "source": [
                "select idcliente, documento, nombres, apellidos, correo, telefono from clientes"
            ],
            "metadata": {
                "azdata_cell_guid": "6196c873-c771-47e2-a1e4-fe2c3327d645",
                "language": "sql"
            },
            "outputs": [],
            "execution_count": null
        },
        {
            "cell_type": "code",
            "source": [
                "create table usuarios(\n",
                "\tidusuario int primary key identity,\n",
                "\tdocumento varchar(50),\n",
                "\tnombreusuario varchar(50),\n",
                "\tcorreo varchar(50),\n",
                "\tclave varchar(50),\n",
                "\tidrol int references rol(idrol),\n",
                "\testado bit not null default 1,\n",
                "\tfecharegistro datetime default getdate()\n",
                ")"
            ],
            "metadata": {
                "azdata_cell_guid": "9d70d0d2-8719-4148-b48c-997ccb510015",
                "language": "sql"
            },
            "outputs": [],
            "execution_count": null
        },
        {
            "cell_type": "code",
            "source": [
                "insert into usuarios (documento, nombreusuario, correo, clave, idrol) values\n",
                "\t('12345678', 'pepe', 'pepe@hotmail.pe', '12345', 1),\n",
                "\t('12345688', 'pedro', 'pedro@gmail.com', '12345', 2)\n",
                "select * from usuarios"
            ],
            "metadata": {
                "azdata_cell_guid": "7e35baa8-d6ce-4c4b-9c8f-dda51d8f0698",
                "language": "sql"
            },
            "outputs": [],
            "execution_count": null
        },
        {
            "cell_type": "code",
            "source": [
                "create table categorias(\n",
                "\tidcategoria int primary key identity,\n",
                "\tnombrecategoria varchar(100),\n",
                "\testado bit not null default 1,\n",
                "\tfecharegistro datetime default getdate()\n",
                ")"
            ],
            "metadata": {
                "azdata_cell_guid": "e9bfaee7-a373-498e-b516-dd40559ae94b",
                "language": "sql"
            },
            "outputs": [],
            "execution_count": null
        },
        {
            "cell_type": "code",
            "source": [
                "select idcategoria, nombrecategoria, fecharegistro from categorias"
            ],
            "metadata": {
                "azdata_cell_guid": "e21d2aee-019d-46bd-9be0-e7691ed19443",
                "language": "sql"
            },
            "outputs": [],
            "execution_count": null
        },
        {
            "cell_type": "code",
            "source": [
                "insert into categorias (nombrecategoria) values\n",
                "\t('categoria de prueba')\n",
                "select * from categorias"
            ],
            "metadata": {
                "azdata_cell_guid": "354da646-9a71-467c-ba92-1af8a0b32594",
                "language": "sql"
            },
            "outputs": [],
            "execution_count": null
        },
        {
            "cell_type": "code",
            "source": [
                "create table tallasropa (\n",
                "\tidtallaropa int primary key identity,\n",
                "\tnombretalla varchar(50),\n",
                "\tidcategoria int references categorias(idcategoria) not null,\n",
                "\testado bit not null default 1,\n",
                ")"
            ],
            "metadata": {
                "azdata_cell_guid": "7d3c4a2f-9cad-4449-894d-bc3d08758ac5",
                "language": "sql"
            },
            "outputs": [],
            "execution_count": null
        },
        {
            "cell_type": "code",
            "source": [
                "insert into tallasropa (idcategoria, nombretalla) VALUES \n",
                "\t(1, 'S');"
            ],
            "metadata": {
                "azdata_cell_guid": "14bc73ce-45d4-4590-9658-ab1f044008ea",
                "language": "sql"
            },
            "outputs": [],
            "execution_count": null
        },
        {
            "cell_type": "code",
            "source": [
                "SELECT * FROM tallasropa"
            ],
            "metadata": {
                "azdata_cell_guid": "f0e9a95f-48f3-4093-a6bb-c58306886f50",
                "language": "sql"
            },
            "outputs": [],
            "execution_count": null
        },
        {
            "cell_type": "code",
            "source": [
                "select idtallaropa, c.idcategoria, c.nombrecategoria, nombretalla from tallasropa tr\n",
                "inner join categorias c on c.idcategoria = tr.idcategoria"
            ],
            "metadata": {
                "azdata_cell_guid": "694d752c-db46-4cda-b9c5-7b617cbbfa0c",
                "language": "sql"
            },
            "outputs": [],
            "execution_count": null
        },
        {
            "cell_type": "code",
            "source": [
                "create table productosropa(\n",
                "\tidproducto int primary key identity,\n",
                "\timagenes varbinary(max) NULL,\n",
                "\tcodigo varchar(50) not null,\n",
                "\tnombre varchar(50) not null,\n",
                "\tdescripcion varchar(50) not null,\n",
                "\tubiprod varchar(30) not null,\n",
                "\tidcategoria int references categorias(idcategoria) not null,\n",
                "\tidtallaropa int references tallasropa(idtallaropa) not null,\n",
                "\tstock int default 0 not null,\n",
                "\tcolores varchar(40) not null,\n",
                "\tnumcaja varchar(50) not null,\n",
                "\tprecioventa decimal(10,2) default 0 not null,\n",
                "\tdevolucion varchar(30) null,\n",
                "\tdevoluciontalla varchar(10) null,\n",
                "\testado bit not null default 1,\n",
                "\tfecharegistro datetime default getdate()\n",
                ")"
            ],
            "metadata": {
                "azdata_cell_guid": "a9034d75-fab6-4c69-8dc7-e674553d29a1",
                "language": "sql"
            },
            "outputs": [],
            "execution_count": null
        },
        {
            "cell_type": "code",
            "source": [
                "insert into productosropa (codigo, nombre, descripcion, idcategoria, idtallaropa, stock, colores, numcaja, precioventa) values\n",
                "('113221466', 'prueba1', 'hola mundgg', 1, 1, '40', 'amarillo', 'caja 12', '150'),\n",
                "('113221896', 'prueba2', 'hola mundo', 1, 1, '30', 'azul', 'bolsa 15', '69');\n",
                "select * from productosropa"
            ],
            "metadata": {
                "azdata_cell_guid": "311bad11-8b64-4285-9016-3fc2afce9591",
                "language": "sql"
            },
            "outputs": [],
            "execution_count": null
        },
        {
            "cell_type": "code",
            "source": [
                "delete from productosropa where idproducto = 11;\n",
                "\n",
                "select idproducto, codigo, nombre, descripcion, c.idcategoria, c.nombrecategoria, tr.idtallaropa, tr.nombretalla, stock, colores, numcaja, precioventa, devolucion, devoluciontalla from productosropa p\n",
                "inner join categorias c on c.idcategoria = p.idcategoria\n",
                "inner join tallasropa tr on tr.idtallaropa = p.idtallaropa"
            ],
            "metadata": {
                "azdata_cell_guid": "7b74d4d7-f66e-45ec-a69a-8b1dc1995102",
                "language": "sql"
            },
            "outputs": [],
            "execution_count": null
        },
        {
            "cell_type": "code",
            "source": [
                "create table productosropatienda(\n",
                "\tidproductotienda int primary key identity,\n",
                "\tidusuario int references usuarios(idusuario),\n",
                "\testado bit not null default 1,\n",
                "\tfecharegistro datetime default getdate()\n",
                ")"
            ],
            "metadata": {
                "azdata_cell_guid": "cfc068fb-4835-489c-9296-d6d21aa366d7",
                "language": "sql"
            },
            "outputs": [],
            "execution_count": null
        },
        {
            "cell_type": "code",
            "source": [
                "select count(*) + 1 from productosropatienda\n",
                "\n",
                "delete from productosropatienda where idproductotienda = 5;\n",
                "\n",
                "create table detalletienda(\n",
                "\tiddetalletienda int primary key identity,\n",
                "\tidproductotienda int references productosropatienda(idproductotienda),\n",
                "\tidproducto int references productosropa(idproducto),\n",
                "\tcantidad int default 0 not null,\n",
                "\tfecharegistro varchar(20)not null\n",
                ")"
            ],
            "metadata": {
                "azdata_cell_guid": "d14da66e-6c08-492c-bab5-0ca009ce67a6",
                "language": "sql"
            },
            "outputs": [],
            "execution_count": null
        },
        {
            "cell_type": "code",
            "source": [
                "SELECT dt.iddetalletienda, dt.idproductotienda, pr.idproducto, pr.codigo, pr.nombre, pr.descripcion, cat.idcategoria, cat.nombrecategoria, tr.idtallaropa, tr.nombretalla, pr.stock, pr.colores, pr.numcaja, pr.precioventa, pr.devolucion, pr.devoluciontalla, pr.estado AS estado_producto, CONVERT(VARCHAR(10), pr.fecharegistro, 120)AS fecharegistro_producto, dt.cantidad, convert(varchar(12), dt.fecharegistro, 120) AS fecharegistro_detalletienda FROM detalletienda dt\n",
                "JOIN productosropa pr ON dt.idproducto = pr.idproducto\n",
                "JOIN categorias cat ON pr.idcategoria = cat.idcategoria\n",
                "JOIN tallasropa tr ON pr.idtallaropa = tr.idtallaropa;\n",
                "select * from detalletienda"
            ],
            "metadata": {
                "azdata_cell_guid": "a41d924c-08cd-4ab2-bfed-2c9cd740d597",
                "language": "sql"
            },
            "outputs": [],
            "execution_count": null
        },
        {
            "cell_type": "code",
            "source": [
                "create table ventas(\n",
                "\tidventa int primary key identity,\n",
                "\tidusuario int references usuarios(idusuario),\n",
                "\ttipodocumento varchar(50),\n",
                "\tnumerodocumento varchar(50),\n",
                "\tdocumentocliente varchar(50),\n",
                "\tnombrecliente varchar(100),\n",
                "\tmontopago decimal(10,2),\n",
                "\tmontocambio decimal(10,2),\n",
                "\tmontototal decimal(10,2),\n",
                "\tfecharegistro datetime default getdate()\n",
                ")"
            ],
            "metadata": {
                "azdata_cell_guid": "bab0a20d-a32e-474d-9931-778065f3b1a6",
                "language": "sql"
            },
            "outputs": [],
            "execution_count": null
        },
        {
            "cell_type": "code",
            "source": [
                "create table detalle_venta(\n",
                "\tiddetalleventa int primary key identity,\n",
                "\tidventa int references ventas(idventa),\n",
                "\tidproducto int references productosropa(idproducto),\n",
                "\tprecioventa decimal(10,2),\n",
                "\tcantidad int,\n",
                "\tsubtotal decimal(10,2),\n",
                "\tfecharegistro datetime default getdate()\n",
                ")"
            ],
            "metadata": {
                "azdata_cell_guid": "7f2045fc-dc12-4cf5-a828-b3780f01f9a2",
                "language": "sql"
            },
            "outputs": [],
            "execution_count": null
        },
        {
            "cell_type": "code",
            "source": [
                "create table negocios(\n",
                "\tidnegocio int primary key identity,\n",
                "\tnombre varchar(60),\n",
                "\truc varchar(60),\n",
                "\tdireccion varchar(60),\n",
                "\tlogo varbinary(max) NULL\n",
                ")"
            ],
            "metadata": {
                "azdata_cell_guid": "5443e897-d1a1-4fb7-a9ae-b32fefcc4f74",
                "language": "sql"
            },
            "outputs": [],
            "execution_count": null
        }
    ]
}