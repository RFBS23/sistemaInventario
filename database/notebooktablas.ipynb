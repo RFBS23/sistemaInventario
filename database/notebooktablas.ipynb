{
    "metadata": {
        "kernelspec": {
            "name": "SQL",
            "display_name": "SQL",
            "language": "sql"
        },
        "language_info": {
            "name": "sql",
            "version": ""
        }
    },
    "nbformat_minor": 2,
    "nbformat": 4,
    "cells": [
        {
            "cell_type": "code",
            "source": [
                "create database sistemainventario"
            ],
            "metadata": {
                "azdata_cell_guid": "d29f7020-87c6-48d9-a64c-0852f085c348",
                "language": "sql"
            },
            "outputs": [],
            "execution_count": null
        },
        {
            "cell_type": "code",
            "source": [
                "use sistemainventario;"
            ],
            "metadata": {
                "azdata_cell_guid": "47e1a2cc-3beb-4901-9319-e8356bf95a60",
                "language": "sql"
            },
            "outputs": [],
            "execution_count": null
        },
        {
            "cell_type": "code",
            "source": [
                "create table rol(\n",
                "\tidrol int primary key identity,\n",
                "\tnombrerol varchar(50),\n",
                "\tfecharegistro datetime default getdate()\n",
                ")"
            ],
            "metadata": {
                "azdata_cell_guid": "21b33e03-f7e8-4f63-842b-5b1b3d5bec9f",
                "language": "sql"
            },
            "outputs": [],
            "execution_count": null
        },
        {
            "cell_type": "code",
            "source": [
                "insert into rol (nombrerol) values ('administrador')\n",
                "select * from rol"
            ],
            "metadata": {
                "azdata_cell_guid": "9d6555e7-dc05-442e-8f22-de722a818c28",
                "language": "sql"
            },
            "outputs": [],
            "execution_count": null
        },
        {
            "cell_type": "code",
            "source": [
                "create table permisos(\n",
                "\tidpermiso int primary key identity,\n",
                "\tidrol int references rol(idrol),\n",
                "\tnombremenu varchar(100),\n",
                "\tfecharegistro datetime default getdate()\n",
                ")"
            ],
            "metadata": {
                "azdata_cell_guid": "da07688f-3fd2-44da-ade0-66d7ee207259",
                "language": "sql"
            },
            "outputs": [],
            "execution_count": null
        },
        {
            "cell_type": "code",
            "source": [
                "select * from permisos"
            ],
            "metadata": {
                "azdata_cell_guid": "7ccc7ee4-a7a1-4c61-8e7e-237557fb3e83",
                "language": "sql"
            },
            "outputs": [],
            "execution_count": null
        },
        {
            "cell_type": "code",
            "source": [
                "create table proveedores(\n",
                "\tidproveedor int primary key identity,\n",
                "\tdocumento varchar(50),\n",
                "\trazonsocial varchar(50),\n",
                "\tcorreo varchar(50),\n",
                "\ttelefono varchar(50),\n",
                "\testado bit,\n",
                "\tfecharegistro datetime default getdate()\n",
                ")"
            ],
            "metadata": {
                "azdata_cell_guid": "9d3b8ff2-6a8b-4457-9006-954a8fbb1d7f",
                "language": "sql"
            },
            "outputs": [],
            "execution_count": null
        },
        {
            "cell_type": "code",
            "source": [
                "create table clientes(\n",
                "\tidcliente int primary key identity,\n",
                "\tdocumento varchar(50),\n",
                "\tnombres varchar(50),\n",
                "\tapellidos varchar(50),\n",
                "\tcorreo varchar(50),\n",
                "\ttelefono char(9),\n",
                "\testado bit,\n",
                "\tfecharegistro datetime default getdate()\n",
                ")"
            ],
            "metadata": {
                "azdata_cell_guid": "dd805080-7d23-4812-9599-3509f2343979",
                "language": "sql"
            },
            "outputs": [],
            "execution_count": null
        },
        {
            "cell_type": "code",
            "source": [
                "select * from clientes"
            ],
            "metadata": {
                "azdata_cell_guid": "d0ec6afd-a4d0-4315-9390-0341b04551e6",
                "language": "sql"
            },
            "outputs": [],
            "execution_count": null
        },
        {
            "cell_type": "code",
            "source": [
                "create table usuarios(\n",
                "\tidusuario int primary key identity,\n",
                "\tdocumento varchar(50),\n",
                "\tnombreusuario varchar(50),\n",
                "\tcorreo varchar(50),\n",
                "\tclave varchar(50),\n",
                "\tidrol int references rol(idrol),\n",
                "\tfecharegistro datetime default getdate()\n",
                ")\n",
                "alter table usuarios add estado bit not null default 1;"
            ],
            "metadata": {
                "azdata_cell_guid": "5f4bc9c2-ffec-4fc9-9d79-3691c1a4d4c4",
                "language": "sql"
            },
            "outputs": [],
            "execution_count": null
        },
        {
            "cell_type": "code",
            "source": [
                "select * from usuarios"
            ],
            "metadata": {
                "azdata_cell_guid": "df22c4b5-6824-4e92-91da-2f28370fe3b2",
                "language": "sql"
            },
            "outputs": [],
            "execution_count": null
        },
        {
            "cell_type": "code",
            "source": [
                "create table categorias(\n",
                "\tidcategoria int primary key identity,\n",
                "\tnombrecategoria varchar(100),\n",
                "\testado bit,\n",
                "\tfecharegistro datetime default getdate()\n",
                ")"
            ],
            "metadata": {
                "azdata_cell_guid": "cc930100-7624-44d2-a2c3-2fe918bcd074",
                "language": "sql"
            },
            "outputs": [],
            "execution_count": null
        },
        {
            "cell_type": "code",
            "source": [
                "alter table categorias drop column estado;\n",
                "alter table categorias add estado bit not null default 1;\n",
                "select idcategoria, nombrecategoria, fecharegistro from categorias"
            ],
            "metadata": {
                "azdata_cell_guid": "da94ac0f-759c-402b-96df-888f825c9a65",
                "language": "sql"
            },
            "outputs": [],
            "execution_count": null
        },
        {
            "cell_type": "code",
            "source": [
                "insert into categorias (nombrecategoria) values\n",
                "\t('categoria de prueba')\n",
                "select * from categorias"
            ],
            "metadata": {
                "azdata_cell_guid": "b3ba2c85-20d8-4f5a-b203-e93d6331a122",
                "language": "sql"
            },
            "outputs": [],
            "execution_count": null
        },
        {
            "cell_type": "code",
            "source": [
                "create table tallas(\n",
                "\tidtalla int primary key identity,\n",
                "\ttipo_prenda VARCHAR(50) not null,\n",
                "\tnombretalla varchar(20) not null,\n",
                "\testado bit not null default 1\n",
                ")"
            ],
            "metadata": {
                "azdata_cell_guid": "19918f11-6277-4551-b4e9-1b3af0ac7936",
                "language": "sql"
            },
            "outputs": [],
            "execution_count": null
        },
        {
            "cell_type": "code",
            "source": [
                "select idtalla, nombretalla, tipo_prenda from tallas;\n",
                "\n",
                "insert into tallas (nombretalla, tipo_prenda) values \n",
                "\t('s', 'algodon'),\n",
                "\t('L', 'pe'),\n",
                "\t('M', 'so');\n",
                "select * from tallas"
            ],
            "metadata": {
                "azdata_cell_guid": "0aa50b36-c835-4b22-a99b-fad3a38e768e",
                "language": "sql"
            },
            "outputs": [],
            "execution_count": null
        },
        {
            "cell_type": "code",
            "source": [
                "create table productos(\n",
                "\tidproducto int primary key identity,\n",
                "\tfotos varbinary(max) NULL,\n",
                "\tcodigo varchar(50),\n",
                "\tnombre varchar(50),\n",
                "\tdescripcion varchar(50),\n",
                "\tidcategoria int references categorias(idcategoria),\n",
                "\tidtalla int references tallas (idtalla),\n",
                "\tstock int not null default 0,\n",
                "\tcolores varchar(40),\n",
                "\tpreciocompra decimal(10,2) default 0,\n",
                "\tprecioventa decimal(10,2) default 0,\n",
                "\testado bit not null default 1,\n",
                "\tfecharegistro datetime default getdate()\n",
                ")"
            ],
            "metadata": {
                "azdata_cell_guid": "ae636ab3-bfad-4e3e-8c88-ff470cc80f6e",
                "language": "sql"
            },
            "outputs": [],
            "execution_count": null
        },
        {
            "cell_type": "code",
            "source": [
                "insert into productos(codigo, nombre, descripcion, idcategoria, stock, preciocompra, precioventa, colores, idtalla, fotos) values\n",
                "('11322131', 'prueba', 'hola mundo', '1', '12', '15', '16', 'Amarillo', 1, null)\n",
                "select * from productos"
            ],
            "metadata": {
                "azdata_cell_guid": "15fd3b17-ca51-4c69-9fcc-bc5a0a0982c2",
                "language": "sql"
            },
            "outputs": [],
            "execution_count": null
        },
        {
            "cell_type": "code",
            "source": [
                "select idproducto, fotos, codigo, nombre, p.descripcion,c.idcategoria, c.nombrecategoria, t.idtalla, t.nombretalla, t.tipo_prenda, stock, precioventa from productos p\n",
                "inner join categorias c on c.idcategoria = p.idcategoria\n",
                "inner join tallas t on t.idtalla = p.idtalla"
            ],
            "metadata": {
                "azdata_cell_guid": "518ba4c9-1349-4e25-b661-a3432cf0ce9e",
                "language": "sql"
            },
            "outputs": [],
            "execution_count": null
        },
        {
            "cell_type": "code",
            "source": [
                "create table compras(\n",
                "\tidcompra int primary key identity,\n",
                "\tidusuario int references usuarios(idusuario),\n",
                "\tidproveedor int references proveedores(idproveedor),\n",
                "\ttipodocumento varchar(50),\n",
                "\tnumerodocumento varchar(50),\n",
                "\tmontototal decimal(10,2),\n",
                "\tfecharegistro datetime default getdate()\n",
                ")"
            ],
            "metadata": {
                "azdata_cell_guid": "59940025-03a1-41f7-87d3-131b5393417b",
                "language": "sql"
            },
            "outputs": [],
            "execution_count": null
        },
        {
            "cell_type": "code",
            "source": [
                "select * from compras"
            ],
            "metadata": {
                "azdata_cell_guid": "acb2028d-acb1-44e8-af65-1c2f0af8c5d9",
                "language": "sql"
            },
            "outputs": [],
            "execution_count": null
        },
        {
            "cell_type": "code",
            "source": [
                "create table detalle_compra(\n",
                "\tiddetallecompra int primary key identity,\n",
                "\tidcompra int references compras(idcompra),\n",
                "\tidproducto int references productos(idproducto),\n",
                "\tpreciocompra decimal(10,2) default 0,\n",
                "\tprecioventa decimal(10,2) default 0,\n",
                "\tcantidad int,\n",
                "\tmontototal decimal(10,2),\n",
                "\tfecharegistro datetime default getdate()\n",
                ")"
            ],
            "metadata": {
                "azdata_cell_guid": "c72a16f0-5ee6-4489-817c-693ce3e9a756",
                "language": "sql"
            },
            "outputs": [],
            "execution_count": null
        },
        {
            "cell_type": "code",
            "source": [
                "create table ventas(\n",
                "\tidventa int primary key identity,\n",
                "\tidusuario int references usuarios(idusuario),\n",
                "\ttipodocumento varchar(50),\n",
                "\tnumerodocumento varchar(50),\n",
                "\tdocumentocliente varchar(50),\n",
                "\tnombrecliente varchar(100),\n",
                "\tmontopago decimal(10,2),\n",
                "\tmontocambio decimal(10,2),\n",
                "\tmontototal decimal(10,2),\n",
                "\tfecharegistro datetime default getdate()\n",
                ")"
            ],
            "metadata": {
                "azdata_cell_guid": "c315f684-6d1a-402d-b8ec-c9ff307f2211",
                "language": "sql"
            },
            "outputs": [],
            "execution_count": null
        },
        {
            "cell_type": "code",
            "source": [
                "create table detalle_venta(\n",
                "\tiddetalleventa int primary key identity,\n",
                "\tidventa int references ventas(idventa),\n",
                "\tidproductos int references productos(idproducto),\n",
                "\tprecioventa decimal(10,2),\n",
                "\tcantidad int,\n",
                "\tsubtotal decimal(10,2),\n",
                "\tfecharegistro datetime default getdate()\n",
                ")"
            ],
            "metadata": {
                "azdata_cell_guid": "70af49af-6c06-4a79-a8ab-f8dc5dde14ba",
                "language": "sql"
            },
            "outputs": [],
            "execution_count": null
        },
        {
            "cell_type": "code",
            "source": [
                "create table negocios(\n",
                "\tidnegocio int primary key identity,\n",
                "\tnombre varchar(60),\n",
                "\truc varchar(60),\n",
                "\tdireccion varchar(60),\n",
                "\tlogo varbinary(max) NULL\n",
                ")"
            ],
            "metadata": {
                "azdata_cell_guid": "6b8d472d-3a21-498e-b568-9af96bb0325b",
                "language": "sql"
            },
            "outputs": [],
            "execution_count": null
        }
    ]
}